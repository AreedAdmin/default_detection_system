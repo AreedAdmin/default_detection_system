{
 "cells": [
  {
   "cell_type": "code",
   "execution_count": null,
   "id": "8b08814c",
   "metadata": {},
   "outputs": [],
   "source": [
    "import pandas as pd\n",
    "import numpy as np\n",
    "import matplotlib.pyplot as plt\n",
    "import seaborn as sns\n",
    "import plotly.express as px\n",
    "import plotly.graph_objects as go\n",
    "import plotly.io as pio\n",
    "import tensorflow as tf\n",
    "from tensorflow.keras.models import Sequential\n",
    "from tensorflow.keras.layers import Dense\n",
    "from sklearn.model_selection import train_test_split\n",
    "from sklearn.preprocessing import StandardScaler\n",
    "from sklearn.metrics import mean_squared_error, r2_score"
   ]
  },
  {
   "cell_type": "code",
   "execution_count": null,
   "id": "bd8d0124",
   "metadata": {},
   "outputs": [],
   "source": [
    "import kagglehub\n",
    "\n",
    "# Download latest version\n",
    "path = kagglehub.dataset_download(\"mishra5001/credit-card\")\n",
    "\n",
    "print(\"Path to dataset files:\", path)"
   ]
  },
  {
   "cell_type": "code",
   "execution_count": null,
   "id": "6599a237",
   "metadata": {},
   "outputs": [],
   "source": [
    "app_df = pd.read_csv(path+\"/application_data.csv\")\n",
    "app_df.head()"
   ]
  },
  {
   "cell_type": "code",
   "execution_count": null,
   "id": "f70bf88c",
   "metadata": {},
   "outputs": [],
   "source": [
    "app_df.info()"
   ]
  },
  {
   "cell_type": "code",
   "execution_count": null,
   "id": "f44fa0b0",
   "metadata": {},
   "outputs": [],
   "source": [
    "prev_app_df = pd.read_csv(path+\"/previous_application.csv\")\n",
    "prev_app_df.head()"
   ]
  },
  {
   "cell_type": "code",
   "execution_count": null,
   "id": "a974b39d",
   "metadata": {},
   "outputs": [],
   "source": [
    "merged_df = app_df.merge(prev_app_df, on='SK_ID_CURR', how='inner')\n",
    "for col in merged_df.columns:\n",
    "    if merged_df[col].dtype in ['float64', 'object']:\n",
    "        if merged_df[col].dropna().apply(lambda x: str(x).replace('.', '', 1).isdigit()).all():\n",
    "            merged_df[col] = merged_df[col].astype(int, errors='ignore')\n",
    "merged_df.info()\n",
    "merged_df.head()"
   ]
  },
  {
   "cell_type": "code",
   "execution_count": null,
   "id": "0cfbee88",
   "metadata": {},
   "outputs": [],
   "source": [
    "merged_df.dtypes"
   ]
  },
  {
   "cell_type": "code",
   "execution_count": null,
   "id": "94fe5dfe",
   "metadata": {},
   "outputs": [],
   "source": [
    "transactions = merged_df[['SK_ID_CURR', 'SK_ID_PREV']].copy()\n",
    "transactions = transactions.rename(columns={'SK_ID_PREV': 'SK_ID_RECEIVER'})"
   ]
  },
  {
   "cell_type": "code",
   "execution_count": null,
   "id": "9ea90243",
   "metadata": {},
   "outputs": [],
   "source": [
    "class UnionFind:\n",
    "    def __init__(self, elements):\n",
    "        self.parent = {element: element for element in elements}\n",
    "        self.rank = {element: 0 for element in elements}\n",
    "\n",
    "    def find(self, element):\n",
    "        if self.parent[element] != element:\n",
    "            self.parent[element] = self.find(self.parent[element]) # Path compression\n",
    "        return self.parent[element]\n",
    "\n",
    "    def union(self, element1, element2):\n",
    "        root1 = self.find(element1)\n",
    "        root2 = self.find(element2)\n",
    "\n",
    "        if root1 != root2:\n",
    "            if self.rank[root1] < self.rank[root2]:\n",
    "                self.parent[root1] = root2\n",
    "            elif self.rank[root1] > self.rank[root2]:\n",
    "                self.parent[root2] = root1\n",
    "            else:\n",
    "                self.parent[root2] = root1\n",
    "                self.rank[root1] += 1"
   ]
  },
  {
   "cell_type": "code",
   "execution_count": null,
   "id": "d9e81434",
   "metadata": {},
   "outputs": [],
   "source": [
    "unique_accounts = pd.concat([transactions['SK_ID_CURR'], transactions['SK_ID_RECEIVER']]).unique()\n",
    "uf = UnionFind(unique_accounts)\n",
    "\n",
    "for index, row in transactions.iterrows():\n",
    "    uf.union(row['SK_ID_CURR'], row['SK_ID_RECEIVER'])"
   ]
  },
  {
   "cell_type": "code",
   "execution_count": null,
   "id": "cbf20330",
   "metadata": {},
   "outputs": [],
   "source": [
    "account_community_map = {account: uf.find(account) for account in unique_accounts}\n",
    "merged_df['community_id'] = merged_df['SK_ID_CURR'].map(account_community_map)"
   ]
  },
  {
   "cell_type": "code",
   "execution_count": null,
   "id": "440a299c",
   "metadata": {},
   "outputs": [],
   "source": [
    "merged_df.to_csv('merged_credit_card_data.csv', index=False)\n",
    "print(\"merged_credit_card_data.csv has been saved.\")"
   ]
  },
  {
   "cell_type": "code",
   "execution_count": null,
   "id": "c8a8f109",
   "metadata": {},
   "outputs": [],
   "source": [
    "merged_df.T"
   ]
  },
  {
   "cell_type": "code",
   "execution_count": null,
   "id": "9d46ec39",
   "metadata": {},
   "outputs": [],
   "source": [
    "merged_df.head()"
   ]
  },
  {
   "cell_type": "code",
   "execution_count": null,
   "id": "bfa5f633",
   "metadata": {},
   "outputs": [],
   "source": [
    "merged_df.isnull().sum()"
   ]
  },
  {
   "cell_type": "code",
   "execution_count": null,
   "id": "bbeaccd9",
   "metadata": {},
   "outputs": [],
   "source": [
    "null_summary = (\n",
    "    merged_df.isnull()\n",
    "    .sum()\n",
    "    .reset_index()\n",
    "    .rename(columns={'index': 'Feature', 0: 'Null_Count'})\n",
    ")\n",
    "\n",
    "null_summary['Null_%'] = (null_summary['Null_Count'] / len(merged_df) * 100).round(2)\n",
    "null_summary = null_summary.sort_values(by='Null_Count', ascending=False)\n",
    "\n",
    "print(null_summary)"
   ]
  },
  {
   "cell_type": "code",
   "execution_count": null,
   "id": "27eb8410",
   "metadata": {},
   "outputs": [],
   "source": [
    "def drop_high_null_features(merged_df, threshold=0.4):\n",
    "    \"\"\"\n",
    "    Drops all columns with more than 'threshold' proportion of null values.\n",
    "    \n",
    "    Parameters:\n",
    "        df (pd.DataFrame): Input DataFrame\n",
    "        threshold (float): Fraction of null values above which columns are dropped (default = 0.4)\n",
    "        \n",
    "    Returns:\n",
    "        pd.DataFrame: Cleaned DataFrame with columns removed\n",
    "    \"\"\"\n",
    "    # Calculate the fraction of nulls per column\n",
    "    null_fraction = merged_df.isnull().mean()\n",
    "    \n",
    "    # Columns to drop\n",
    "    cols_to_drop = null_fraction[null_fraction > threshold].index\n",
    "    \n",
    "    print(f\"🧹 Dropping {len(cols_to_drop)} columns with more than {threshold*100}% null values\")\n",
    "    \n",
    "    # Drop and return\n",
    "    df_cleaned = merged_df.drop(columns=cols_to_drop)\n",
    "    return df_cleaned"
   ]
  }
 ],
 "metadata": {
  "kernelspec": {
   "display_name": "Python 3",
   "language": "python",
   "name": "python3"
  },
  "language_info": {
   "codemirror_mode": {
    "name": "ipython",
    "version": 3
   },
   "file_extension": ".py",
   "mimetype": "text/x-python",
   "name": "python",
   "nbconvert_exporter": "python",
   "pygments_lexer": "ipython3",
   "version": "3.9.6"
  }
 },
 "nbformat": 4,
 "nbformat_minor": 5
}
